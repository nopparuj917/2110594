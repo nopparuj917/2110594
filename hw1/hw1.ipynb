{
  "cells": [
    {
      "cell_type": "markdown",
      "metadata": {
        "id": "7EdbVSmE87En"
      },
      "source": [
        "# HW1: Dictionary-based Tokenization \n"
      ]
    },
    {
      "cell_type": "markdown",
      "metadata": {
        "id": "pJJLm1Ub87Et"
      },
      "source": [
        "In this exercise, you are to implement a dictionary-based word segmentation algorithm. There are two Python functions that you need to complete: \n",
        "<br>\n",
        "* maximal_matching\n",
        "* backtrack\n",
        "</br>\n",
        "\n",
        "Also, you have to find how to use word_tokenize() in PythaiNLP along with customer_dict by yourselves."
      ]
    },
    {
      "cell_type": "markdown",
      "metadata": {
        "id": "DF5Pme7CK3YF"
      },
      "source": [
        "## Part1) Your Maximal Matching with Your Dictionary"
      ]
    },
    {
      "cell_type": "markdown",
      "metadata": {
        "id": "xzs0R06q87Et"
      },
      "source": [
        "### Create a toy dictionary to test the algorithm\n",
        "\n",
        "This is based on the example shown in the lecture. \n",
        "You will tokenize the following text string: \"ไปหามเหสี!\"\n",
        "The toy dictoionary provided in this exercise includes all the charaters, syllables, and words that appear that the text string."
      ]
    },
    {
      "cell_type": "code",
      "execution_count": 219,
      "metadata": {
        "id": "pq3W4p3z87Ev"
      },
      "outputs": [],
      "source": [
        "thai_vocab = [\"ไ\",\"ป\",\"ห\",\"า\",\"ม\",\"เ\",\"ห\",\"ส\",\"ี\",\"ไป\",\"หา\",\"หาม\",\"เห\",\"สี\",\"มเหสี\",\"!\"]"
      ]
    },
    {
      "cell_type": "markdown",
      "metadata": {
        "id": "ZornooGF87Ew"
      },
      "source": [
        "### Maximal matching \n",
        "Complete the maximal matching  function below to tokenize the input text\n"
      ]
    },
    {
      "cell_type": "code",
      "execution_count": 220,
      "metadata": {
        "id": "Ao4d2E3387Ew"
      },
      "outputs": [],
      "source": [
        "from math import inf  # infinity\n",
        "\n",
        "\n",
        "def maximal_matching(c):\n",
        "    # Initialize an empty 2D list\n",
        "    d = [[None]*len(c) for _ in range(len(c))]\n",
        "\n",
        "    ####FILL CODE HERE####\n",
        "    for i in range(len(c)) :\n",
        "        if (c[0:i+1]) in thai_vocab:\n",
        "            d[0][i] = 1\n",
        "        else : d[0][i] = inf\n",
        "\n",
        "    for i in range(1, len(c)):\n",
        "        m = inf\n",
        "        for y in range (i-1,-1,-1):\n",
        "            for x in range (0, y+1):\n",
        "                if (d[x][y]) is not inf:\n",
        "                    m = min(m, d[x][y])\n",
        "\n",
        "\n",
        "            if m is not inf : break\n",
        "        \n",
        "        if m is inf: m = 0\n",
        "        for j in range(i, len(c)):\n",
        "            if c[i:j+1] in thai_vocab:\n",
        "                d[i][j] = m + 1\n",
        "            else :\n",
        "                d[i][j] = inf\n",
        "            \n",
        "\n",
        "    return d "
      ]
    },
    {
      "cell_type": "markdown",
      "metadata": {
        "id": "w7vBXfjM87Ew"
      },
      "source": [
        "### Backtracking\n",
        "Complete the backtracking function below to find the tokenzied words.\n",
        "It should return a list containing a pair of the beginning position and the ending position of each word.\n",
        "In this example, it should return: \n",
        "<br>\n",
        "[(0, 1),(2, 3),(4, 8),(9, 9)]\n",
        "<br> \n",
        "#### Each pair contains the position of each word as follows:\n",
        "(0, 1) ไป\n",
        "<br>\n",
        "(2, 3) หา\n",
        "<br>\n",
        "(4, 8) มเหสี\n",
        "<br>\n",
        "(9, 9) !\n"
      ]
    },
    {
      "cell_type": "code",
      "execution_count": 221,
      "metadata": {
        "id": "SxNFf1IE87Ex"
      },
      "outputs": [],
      "source": [
        "def backtrack(d):\n",
        "    eow = len(d)-1  # End of Word position\n",
        "    word_pos = []  # Word position\n",
        "    #### FILL CODE HERE####\n",
        "    while (eow > -1):\n",
        "        m = inf\n",
        "        l = eow\n",
        "        for i in range(l, -1, -1):\n",
        "            if d[i][eow] is not inf and d[i][eow] < m:\n",
        "                m = d[i][eow]\n",
        "                f = i  \n",
        "        eow = f\n",
        "        word_pos.append((f, l))\n",
        "        eow -= 1\n",
        "\n",
        "    ######################\n",
        "    word_pos.reverse()\n",
        "    return word_pos\n"
      ]
    },
    {
      "cell_type": "markdown",
      "metadata": {
        "id": "q0MJkKsh87Ex"
      },
      "source": [
        "### Test your maximal matching algorithm on a toy dictionary\n",
        "\n",
        "Expected output:\n",
        "\n",
        "[1, 1, inf, inf, inf, inf, inf, inf, inf, inf] ไ\n",
        "<br>\n",
        "[None, 2, inf, inf, inf, inf, inf, inf, inf, inf] ป\n",
        "<br>\n",
        "[None, None, 2, 2, 2, inf, inf, inf, inf, inf] ห\n",
        "<br>\n",
        "[None, None, None, 3, inf, inf, inf, inf, inf, inf] า\n",
        "<br>\n",
        "[None, None, None, None, 3, inf, inf, inf, 3, inf] ม\n",
        "<br>\n",
        "[None, None, None, None, None, 3, 3, inf, inf, inf] เ\n",
        "<br>\n",
        "[None, None, None, None, None, None, 4, inf, inf, inf] ห\n",
        "<br>\n",
        "[None, None, None, None, None, None, None, 4, 4, inf] ส\n",
        "<br>\n",
        "[None, None, None, None, None, None, None, None, 5, inf] ี\n",
        "<br>\n",
        "[None, None, None, None, None, None, None, None, None, 4] !\n",
        "<br>"
      ]
    },
    {
      "cell_type": "code",
      "execution_count": 222,
      "metadata": {
        "id": "tsmVQIKS87Ey"
      },
      "outputs": [
        {
          "name": "stdout",
          "output_type": "stream",
          "text": [
            "[1, 1, inf, inf, inf, inf, inf, inf, inf, inf] ไ\n",
            "[None, 2, inf, inf, inf, inf, inf, inf, inf, inf] ป\n",
            "[None, None, 2, 2, 2, inf, inf, inf, inf, inf] ห\n",
            "[None, None, None, 3, inf, inf, inf, inf, inf, inf] า\n",
            "[None, None, None, None, 3, inf, inf, inf, 3, inf] ม\n",
            "[None, None, None, None, None, 3, 3, inf, inf, inf] เ\n",
            "[None, None, None, None, None, None, 4, inf, inf, inf] ห\n",
            "[None, None, None, None, None, None, None, 4, 4, inf] ส\n",
            "[None, None, None, None, None, None, None, None, 5, inf] ี\n",
            "[None, None, None, None, None, None, None, None, None, 4] !\n"
          ]
        }
      ],
      "source": [
        "input_text = \"ไปหามเหสี!\"\n",
        "out = maximal_matching(input_text)\n",
        "for i in range(len(out)):\n",
        "    print(out[i],input_text[i])"
      ]
    },
    {
      "cell_type": "markdown",
      "metadata": {
        "id": "IVhCMM4d87Ey"
      },
      "source": [
        "### Test your backtracking algorithm on a toy dictionary\n",
        "Expected output:\n",
        "<br>\n",
        "ไป|หา|มเหสี|!"
      ]
    },
    {
      "cell_type": "code",
      "execution_count": 223,
      "metadata": {
        "id": "6Hurbm1f87Ey"
      },
      "outputs": [
        {
          "name": "stdout",
          "output_type": "stream",
          "text": [
            "ไป|หา|มเหสี|!\n"
          ]
        }
      ],
      "source": [
        "def print_tokenized_text(d, input_text):\n",
        "    tokenized_text=[]\n",
        "    for pos in backtrack(d):\n",
        "        #print(pos)\n",
        "        tokenized_text.append(input_text[pos[0]:pos[1]+1])\n",
        "\n",
        "    print(\"|\".join(tokenized_text))\n",
        "    \n",
        "print_tokenized_text(out,input_text)"
      ]
    },
    {
      "cell_type": "markdown",
      "metadata": {
        "id": "quWOGldzXMQQ"
      },
      "source": [
        "### <font color=blue>Question 1</font>\n",
        "Using the code from part one only, how many “words” did you get when tokenizing this input text.\n",
        "\n",
        "Answer this question in question #1 in MyCourseVille. Also print out the answer in this notebook as well."
      ]
    },
    {
      "cell_type": "code",
      "execution_count": 224,
      "metadata": {
        "id": "OEPYOIfBXGoR"
      },
      "outputs": [],
      "source": [
        "input_text = \"ไปหาหมามเหสีมาหาม!\""
      ]
    },
    {
      "cell_type": "markdown",
      "metadata": {
        "id": "57rP9cTU87Ez"
      },
      "source": [
        "## Part2) Your Maximal Matching with Real Dictionary"
      ]
    },
    {
      "cell_type": "markdown",
      "metadata": {
        "id": "V306h7AG87Ez"
      },
      "source": [
        "For UNIX-based OS users, the following cell will download a dictionary (it's just a list of thai words). Alternatively, you can download it from this link: https://raw.githubusercontent.com/PyThaiNLP/pythainlp/dev/pythainlp/corpus/words_th.txt"
      ]
    },
    {
      "cell_type": "code",
      "execution_count": 225,
      "metadata": {
        "id": "EFVR9LO187Ez",
        "scrolled": true
      },
      "outputs": [],
      "source": [
        "#!wget https://raw.githubusercontent.com/PyThaiNLP/pythainlp/dev/pythainlp/corpus/words_th.txt"
      ]
    },
    {
      "cell_type": "code",
      "execution_count": 226,
      "metadata": {
        "id": "nqIQzVgE87E0"
      },
      "outputs": [
        {
          "name": "stdout",
          "output_type": "stream",
          "text": [
            "Vocab size: 62069\n",
            "['ก ข ไม่กระดิกหู', 'ก.', 'ก.ค.', 'ก.ต.', 'ก.ป.ส.', 'ก.พ.', 'ก.พ.ด.', 'ก.ม.', 'ก.ย.', 'ก.ย']\n"
          ]
        }
      ],
      "source": [
        "with open(\"words_th.txt\",encoding='utf-8-sig') as f:\n",
        "    thai_vocab = f.read().splitlines() \n",
        "print(\"Vocab size:\", len(thai_vocab))\n",
        "print(thai_vocab[:10])\n",
        "\n",
        "thai_vocab.extend([\"ๆ\",\"!\"])"
      ]
    },
    {
      "cell_type": "markdown",
      "metadata": {
        "id": "Kpjwzw1w87E0"
      },
      "source": [
        "### The output of your maximal matching algoithm on a new dictionary\n",
        "Expected output:\n",
        "<br>\n",
        "[inf, 1, inf, 1, inf, inf, inf, inf, inf] ไ\n",
        "<br>\n",
        "[None, inf, inf, inf, inf, inf, inf, inf, inf] ป\n",
        "<br>\n",
        "[None, None, inf, 2, 2, inf, inf, inf, inf] ห\n",
        "<br>\n",
        "[None, None, None, inf, inf, inf, inf, inf, inf] า\n",
        "<br>\n",
        "[None, None, None, None, inf, inf, inf, inf, 2] ม\n",
        "<br>\n",
        "[None, None, None, None, None, inf, 3, inf, inf] เ\n",
        "<br>\n",
        "[None, None, None, None, None, None, inf, inf, inf] ห\n",
        "<br>\n",
        "[None, None, None, None, None, None, None, inf, 4] ส\n",
        "<br>\n",
        "[None, None, None, None, None, None, None, None, inf] ี\n"
      ]
    },
    {
      "cell_type": "code",
      "execution_count": 227,
      "metadata": {
        "id": "lYD5ChIS87E0"
      },
      "outputs": [
        {
          "name": "stdout",
          "output_type": "stream",
          "text": [
            "[inf, 1, inf, 1, inf, inf, inf, inf, inf] ไ\n",
            "[None, inf, inf, inf, inf, inf, inf, inf, inf] ป\n",
            "[None, None, inf, 2, 2, inf, inf, inf, inf] ห\n",
            "[None, None, None, inf, inf, inf, inf, inf, inf] า\n",
            "[None, None, None, None, inf, inf, inf, inf, 2] ม\n",
            "[None, None, None, None, None, inf, 3, inf, inf] เ\n",
            "[None, None, None, None, None, None, inf, inf, inf] ห\n",
            "[None, None, None, None, None, None, None, inf, 4] ส\n",
            "[None, None, None, None, None, None, None, None, inf] ี\n"
          ]
        }
      ],
      "source": [
        "input_text = \"ไปหามเหสี\"\n",
        "out = maximal_matching(input_text)\n",
        "for i in range(len(out)):\n",
        "    print(out[i],input_text[i])"
      ]
    },
    {
      "cell_type": "markdown",
      "metadata": {
        "id": "BSqLuK7G87E0"
      },
      "source": [
        "### Expected tokenized text\n",
        "ไปหา|มเหสี"
      ]
    },
    {
      "cell_type": "code",
      "execution_count": 228,
      "metadata": {
        "id": "TI077jmy87E0"
      },
      "outputs": [
        {
          "name": "stdout",
          "output_type": "stream",
          "text": [
            "ไปหา|มเหสี\n"
          ]
        }
      ],
      "source": [
        "# print('ไปหา' in thai_vocab)\n",
        "# print('มเหสี' in thai_vocab)\n",
        "# print('ปปป' in thai_vocab)\n",
        "print_tokenized_text(out,input_text)"
      ]
    },
    {
      "cell_type": "markdown",
      "metadata": {
        "id": "44UilNq5Ywne"
      },
      "source": [
        "### <font color=blue>Question 2</font>\n",
        "Using the code from part two only, how many “words” did you get when tokenizing this input text.\n",
        "\n",
        "Answer this question in question #2 in MyCourseVille. Also print out the answer in this notebook as well."
      ]
    },
    {
      "cell_type": "code",
      "execution_count": 229,
      "metadata": {
        "id": "KjT7YzC0YzYo"
      },
      "outputs": [],
      "source": [
        "input_text = \"ประเทศไทยรวมเลือดเนื้อชาติเชื้อไทยเป็นประชารัฐไผทของไทยทุกส่วนอยู่ดำรงคงไว้ได้ทั้งมวลด้วยไทยล้วนหมายรักสามัคคี\""
      ]
    },
    {
      "cell_type": "markdown",
      "metadata": {
        "id": "VLGgO8PrLSz6"
      },
      "source": [
        "## Part3) Maximal Matching from PythaiNLP"
      ]
    },
    {
      "cell_type": "markdown",
      "metadata": {
        "id": "LrZrzQoXLeUX"
      },
      "source": [
        "### Default dictionary\n",
        "\n",
        "Study word_tokenize() from PythaiNLP in the link below.\n",
        "\n",
        "https://pythainlp.github.io/docs/3.1/api/tokenize.html#pythainlp.tokenize.word_tokenize"
      ]
    },
    {
      "cell_type": "code",
      "execution_count": 230,
      "metadata": {
        "id": "yXxPBOcNLXfm"
      },
      "outputs": [],
      "source": [
        "# !pip install pythainlp\n",
        "# !pip install marisa_trie"
      ]
    },
    {
      "cell_type": "code",
      "execution_count": 234,
      "metadata": {
        "id": "goQE5gFUL4KO"
      },
      "outputs": [
        {
          "data": {
            "text/plain": [
              "['นัด', 'กินกัน', 'ตอน', 'ไหน', 'ก็', 'ได้ที่', 'สามย่าน', 'มิตร', 'ทาวน์']"
            ]
          },
          "execution_count": 234,
          "metadata": {},
          "output_type": "execute_result"
        }
      ],
      "source": [
        "from pythainlp.tokenize import word_tokenize\n",
        "text='นัดกินกันตอนไหนก็ได้ที่สามย่านมิตรทาวน์'\n",
        "\n",
        "####FILL CODE HERE####\n",
        "    \n",
        "word_tokenize(text, engine=\"newmm\") \n",
        "######################"
      ]
    },
    {
      "cell_type": "markdown",
      "metadata": {
        "id": "2SlX5cEBMHPd"
      },
      "source": [
        "### Custom dictionary\n",
        "\n",
        "Add 'สามย่านมิตรทาวน์' into dictionary and then tokenize again"
      ]
    },
    {
      "cell_type": "code",
      "execution_count": 235,
      "metadata": {
        "id": "b4V9TqFaMPAj"
      },
      "outputs": [
        {
          "data": {
            "text/plain": [
              "['นัด', 'กินกัน', 'ตอน', 'ไหน', 'ก็', 'ได้ที่', 'สามย่านมิตรทาวน์']"
            ]
          },
          "execution_count": 235,
          "metadata": {},
          "output_type": "execute_result"
        }
      ],
      "source": [
        "####FILL CODE HERE####\n",
        "    \n",
        "from pythainlp.corpus.common import thai_words\n",
        "from pythainlp.util import dict_trie\n",
        "\n",
        "custom_dict = set(thai_words())\n",
        "custom_dict.add('สามย่านมิตรทาวน์')\n",
        "\n",
        "trie = dict_trie(dict_source=custom_dict)\n",
        "\n",
        "word_tokenize(text, engine=\"newmm\", custom_dict=trie)\n",
        "######################"
      ]
    },
    {
      "cell_type": "markdown",
      "metadata": {
        "id": "Ehzo958tY6DM"
      },
      "source": [
        "### <font color=blue>Question 3</font>\n",
        "Using the code from part three only, how many “words” did you get when tokenizing this input text **after adding the new vocabs**.\n",
        "\n",
        "Answer this question in question #3 in MyCourseVille. Also print out the answer in this notebook as well."
      ]
    },
    {
      "cell_type": "code",
      "execution_count": 238,
      "metadata": {
        "id": "lNzYQcEkZIJs"
      },
      "outputs": [
        {
          "data": {
            "text/plain": [
              "51"
            ]
          },
          "execution_count": 238,
          "metadata": {},
          "output_type": "execute_result"
        }
      ],
      "source": [
        "\n",
        "from pythainlp.tokenize import word_tokenize\n",
        "from pythainlp.corpus.common import thai_words\n",
        "from pythainlp.util import dict_trie\n",
        "\n",
        "custom_dict = set(thai_words())\n",
        "new_vocab = [\"ดิสนีย์ออนไอซ์\", \"ตีกอล์ฟ\", \"ธรรมมะ\"]\n",
        "for i in new_vocab:\n",
        "    custom_dict.add(i)\n",
        "\n",
        "trie = dict_trie(dict_source=custom_dict)\n",
        "\n",
        "text = \"อ๋อก็ว่าจะไปเรียนแต่งหน้านั่งสมาธิดำน้ำปลูกปะการังทำอาหารนวดสปาปลูกป่าดำนาดูดิสนีย์ออนไอซ์แรลลี่ตีกอล์ฟล่องเรือส่องสัตว์ช้อปปิ้งดูงิ้วดูละครเวทีดูคอนเสิร์ตดินเนอร์ทำขนมจัดดอกไม้เที่ยวตลาดน้ำเรียนถ่ายรูปดูกายกรรมชมเมืองเก่าเข้าสัมมนาทัวร์ธรรมมะเรียนเต้นแล้วก็ร้องเพลง\"\n",
        "len(word_tokenize(text, engine=\"newmm\", custom_dict=trie))\n"
      ]
    }
  ],
  "metadata": {
    "colab": {
      "provenance": [],
      "toc_visible": true
    },
    "kernelspec": {
      "display_name": ".env",
      "language": "python",
      "name": "python3"
    },
    "language_info": {
      "codemirror_mode": {
        "name": "ipython",
        "version": 3
      },
      "file_extension": ".py",
      "mimetype": "text/x-python",
      "name": "python",
      "nbconvert_exporter": "python",
      "pygments_lexer": "ipython3",
      "version": "3.10.9"
    },
    "vscode": {
      "interpreter": {
        "hash": "1707e089b2636dc4ee528c093ba07ddf698a4a59f61974698cf9bdd24a3c1644"
      }
    }
  },
  "nbformat": 4,
  "nbformat_minor": 0
}
